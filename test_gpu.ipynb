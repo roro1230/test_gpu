{
 "cells": [
  {
   "cell_type": "code",
   "execution_count": 1,
   "id": "9346df7b",
   "metadata": {
    "_cell_guid": "b1076dfc-b9ad-4769-8c92-a6c4dae69d19",
    "_uuid": "8f2839f25d086af736a60e9eeb907d3b93b6e0e5",
    "execution": {
     "iopub.execute_input": "2025-01-20T03:07:05.609277Z",
     "iopub.status.busy": "2025-01-20T03:07:05.608891Z",
     "iopub.status.idle": "2025-01-20T03:07:15.978164Z",
     "shell.execute_reply": "2025-01-20T03:07:15.977063Z"
    },
    "papermill": {
     "duration": 10.374082,
     "end_time": "2025-01-20T03:07:15.979924",
     "exception": false,
     "start_time": "2025-01-20T03:07:05.605842",
     "status": "completed"
    },
    "tags": []
   },
   "outputs": [
    {
     "name": "stdout",
     "output_type": "stream",
     "text": [
      "Cloning into '/kaggle/working/Kaggle_VSCode_Remote_SSH'...\r\n",
      "remote: Enumerating objects: 357, done.\u001b[K\r\n",
      "remote: Counting objects: 100% (109/109), done.\u001b[K\r\n",
      "remote: Compressing objects: 100% (26/26), done.\u001b[K\r\n",
      "remote: Total 357 (delta 95), reused 84 (delta 83), pack-reused 248 (from 1)\u001b[K\r\n",
      "Receiving objects: 100% (357/357), 568.66 KiB | 11.60 MiB/s, done.\r\n",
      "Resolving deltas: 100% (202/202), done.\r\n",
      "/kaggle/working/Kaggle_VSCode_Remote_SSH\n",
      "Exporting environment variables from /kaggle/working/kaggle_env_vars.txt\r\n",
      "Usage: ./setup_ssh.sh <authorized_keys_url>\r\n",
      "Downloading latest zrok release\r\n",
      "Extracting Zrok\r\n",
      "\u001b[95m               _    \u001b[0m\r\n",
      "\u001b[95m _____ __ ___ | | __\u001b[0m\r\n",
      "\u001b[95m|_  / '__/ _ \\| |/ /\u001b[0m\r\n",
      "\u001b[95m / /| | | (_) |   < \u001b[0m\r\n",
      "\u001b[95m/___|_|  \\___/|_|\\_\\\u001b[0m\r\n",
      "\r\n",
      "\u001b[93mv0.4.46 [ac1a4a61]\u001b[0m\r\n",
      "\r\n",
      "\u001b]10;?\u001b\\\u001b[6n[   0.381]   ERROR main.(*enableCommand).run: the zrok service returned an error: [POST /enable][401] enableUnauthorized \r\n",
      "\u001b[95mthere was a problem enabling your environment!\u001b[0m\r\n",
      "\r\n",
      "you are trying to use the zrok service at: \u001b[96mhttps://api.zrok.io\u001b[0m\r\n",
      "\r\n",
      "you can change your zrok service endpoint using this command:\r\n",
      "\r\n",
      "\u001b[96m$ zrok config set apiEndpoint <newEndpoint>\u001b[0m\r\n",
      "\r\n",
      "(where newEndpoint is something like: \u001b[96mhttps://some.zrok.io\u001b[0m)\r\n",
      "\r\n",
      "[\u001b[95mERROR\u001b[0m] unable to load environment; did you 'zrok enable'?\r\n"
     ]
    }
   ],
   "source": [
    "!printenv > /kaggle/working/kaggle_env_vars.txt\n",
    "!git clone -b feat/zrok-integration https://github.com/buidai123/Kaggle_VSCode_Remote_SSH.git /kaggle/working/Kaggle_VSCode_Remote_SSH\n",
    "%cd /kaggle/working/Kaggle_VSCode_Remote_SSH\n",
    "!chmod +x zrok_setup.sh\n",
    "!chmod +x setup_ssh.sh\n",
    "!./setup_ssh.sh \n",
    "!./zrok_setup.sh\n",
    "!zrok enable hTillcKaI3Qj\n",
    "!sleep 5\n",
    "!zrok share private --backend-mode tcpTunnel localhost:22"
   ]
  }
 ],
 "metadata": {
  "kaggle": {
   "accelerator": "none",
   "dataSources": [],
   "dockerImageVersionId": 30839,
   "isGpuEnabled": false,
   "isInternetEnabled": true,
   "language": "python",
   "sourceType": "notebook"
  },
  "kernelspec": {
   "display_name": "Python 3",
   "language": "python",
   "name": "python3"
  },
  "language_info": {
   "codemirror_mode": {
    "name": "ipython",
    "version": 3
   },
   "file_extension": ".py",
   "mimetype": "text/x-python",
   "name": "python",
   "nbconvert_exporter": "python",
   "pygments_lexer": "ipython3",
   "version": "3.10.12"
  },
  "papermill": {
   "default_parameters": {},
   "duration": 13.623295,
   "end_time": "2025-01-20T03:07:16.502374",
   "environment_variables": {},
   "exception": null,
   "input_path": "__notebook__.ipynb",
   "output_path": "__notebook__.ipynb",
   "parameters": {},
   "start_time": "2025-01-20T03:07:02.879079",
   "version": "2.6.0"
  }
 },
 "nbformat": 4,
 "nbformat_minor": 5
}
